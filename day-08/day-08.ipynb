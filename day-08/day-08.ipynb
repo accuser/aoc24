{
 "cells": [
  {
   "cell_type": "code",
   "execution_count": 64,
   "metadata": {},
   "outputs": [],
   "source": [
    "example = \"\"\"............\n",
    "........0...\n",
    ".....0......\n",
    ".......0....\n",
    "....0.......\n",
    "......A.....\n",
    "............\n",
    "............\n",
    "........A...\n",
    ".........A..\n",
    "............\n",
    "............\"\"\""
   ]
  },
  {
   "cell_type": "code",
   "execution_count": 86,
   "metadata": {},
   "outputs": [],
   "source": [
    "def parse(input: str) -> list[list[str]]:\n",
    "    return [list(line.strip()) for line in input.strip().split('\\n')]"
   ]
  },
  {
   "cell_type": "code",
   "execution_count": null,
   "metadata": {},
   "outputs": [],
   "source": [
    "def part1(input: str) -> int:\n",
    "    grid = parse(input)\n",
    "\n",
    "    h = len(grid)\n",
    "    w = len(grid[0])\n",
    "\n",
    "    antennas = {}\n",
    "\n",
    "    for y, line in enumerate(grid):\n",
    "        for x, char in enumerate(line):\n",
    "            if char == '.':\n",
    "                continue\n",
    "            elif char in antennas:\n",
    "                antennas[char].append((y, x))\n",
    "            else:\n",
    "                antennas[char] = [(y, x)]\n",
    "\n",
    "    count = 0\n",
    "\n",
    "    for key in antennas:\n",
    "        for p1, p2 in [(antennas[key][i], antennas[key][j]) for i in range(len(antennas[key])) for j in range(i + 1, len(antennas[key]))]:\n",
    "            y1, x1 = p1\n",
    "            y2, x2 = p2\n",
    "\n",
    "            dy = y2 - y1\n",
    "            dx = x2 - x1\n",
    "\n",
    "            for m in [-1, 2]:\n",
    "                if 0 <= (y1 + m * dy) < h and 0<= (x1 + m * dx) < w:\n",
    "                    grid[y1 + m * dy][x1 + m * dx] = '#'\n",
    "\n",
    "    for line in grid:\n",
    "         for cell in line:\n",
    "             if cell == '#':\n",
    "                 count += 1\n",
    "\n",
    "    return count\n",
    "\n",
    "\n",
    "assert part1(example) == 14"
   ]
  },
  {
   "cell_type": "code",
   "execution_count": 110,
   "metadata": {},
   "outputs": [
    {
     "data": {
      "text/plain": [
       "390"
      ]
     },
     "execution_count": 110,
     "metadata": {},
     "output_type": "execute_result"
    }
   ],
   "source": [
    "with open('input', 'r') as f:\n",
    "\tinput = f.read().strip()\n",
    "\n",
    "part1(input)"
   ]
  },
  {
   "cell_type": "code",
   "execution_count": null,
   "metadata": {},
   "outputs": [
    {
     "name": "stdout",
     "output_type": "stream",
     "text": [
      "##....#....#\n",
      ".#.#....0...\n",
      "..#.#0....#.\n",
      "..##...0....\n",
      "....0....#..\n",
      ".#...#A....#\n",
      "...#..#.....\n",
      "#....#.#....\n",
      "..#.....A...\n",
      "....#....A..\n",
      ".#........#.\n",
      "...#......##\n"
     ]
    },
    {
     "data": {
      "text/plain": [
       "34"
      ]
     },
     "execution_count": 126,
     "metadata": {},
     "output_type": "execute_result"
    }
   ],
   "source": [
    "import math\n",
    "\n",
    "def part2(input: str) -> int:\n",
    "    grid = parse(input)\n",
    "\n",
    "    h = len(grid)\n",
    "    w = len(grid[0])\n",
    "\n",
    "    antennas = {}\n",
    "\n",
    "    for y, line in enumerate(grid):\n",
    "        for x, char in enumerate(line):\n",
    "            if char == '.':\n",
    "                continue\n",
    "            elif char in antennas:\n",
    "                antennas[char].append((y, x))\n",
    "            else:\n",
    "                antennas[char] = [(y, x)]\n",
    "\n",
    "    count = 0\n",
    "\n",
    "    for key in antennas:\n",
    "        for p1, p2 in [(antennas[key][i], antennas[key][j]) for i in range(len(antennas[key])) for j in range(i + 1, len(antennas[key]))]:\n",
    "            y1, x1 = p1\n",
    "            y2, x2 = p2\n",
    "\n",
    "            dy = y2 - y1\n",
    "            dx = x2 - x1\n",
    "\n",
    "            if dy != 0:\n",
    "                min_m_y = math.ceil(-y1 / dy)\n",
    "                max_m_y = math.floor((h - 1 - y1) / dy)\n",
    "            else:\n",
    "                min_m_y = float('-inf') if 0 <= y1 < h else float('inf')\n",
    "                max_m_y = float('inf') if 0 <= y1 < h else float('-inf')\n",
    "\n",
    "            if dx != 0:\n",
    "                min_m_x = math.ceil(-x1 / dx)\n",
    "                max_m_x = math.floor((w - 1 - x1) / dx)\n",
    "            else:\n",
    "                min_m_x = float('-inf') if 0 <= x1 < w else float('inf')\n",
    "                max_m_x = float('inf') if 0 <= x1 < w else float('-inf')\n",
    "\n",
    "            min_m = min(min_m_y, min_m_x)\n",
    "            max_m = max(max_m_y, max_m_x)\n",
    "\n",
    "            for m in range(math.ceil(min_m), math.floor(max_m) + 1):\n",
    "                if m == 0 or m == 1:\n",
    "                    continue\n",
    "                if 0 <= (y1 + m * dy) < h and 0<= (x1 + m * dx) < w:\n",
    "                    if grid[y1 + m * dy][x1 + m * dx] == '.':\n",
    "                        grid[y1 + m * dy][x1 + m * dx] = '#'\n",
    "\n",
    "    for line in grid:\n",
    "         for cell in line:\n",
    "             if cell != '.':\n",
    "                 count += 1\n",
    "\n",
    "    return count\n",
    "\n",
    "\n",
    "part2(example)"
   ]
  },
  {
   "cell_type": "code",
   "execution_count": 127,
   "metadata": {},
   "outputs": [
    {
     "name": "stdout",
     "output_type": "stream",
     "text": [
      ".####.#b#.#..#..#...#.##.#.##..........#...##.##..\n",
      "#A..#.s.##.#...#.#.##.....3V.##P..##I#..##..#..##.\n",
      "..s...#.##..b.#.....#v#P....##..#.#.......z..##.#.\n",
      ".p###..#..#.A##uS#l##.........#.......#.......8...\n",
      ".#..###B.##i#..#.###.#..#.#..##z...#.#......##.8#.\n",
      "...##...#####s#...#...##E.......m.....##.J#....##.\n",
      ".c..##.#..####L#..k#P.#.###..E#.........#......#.#\n",
      "#.#...##b####....#.#..#.#.#.#.a#..#...#....#.#....\n",
      ".m.s..#.#V....l#...u..#S#####..#..O....#.#......8.\n",
      "#..B.#.#.....#..#.L##1Dm.#.S..#.u.z..#..#.#.##.#..\n",
      ".#....A#.#.#.3.##e#.#.f..a##.#.##...#..###...#...#\n",
      "..####..######.#...3#..#..#I#.#.##.#.......6.#.#.8\n",
      "####v#.l.........#...###.#.5#....#...#I#.#..#.####\n",
      "..#v...#..#.k.0#.##.#5.#P..#.z##...#...#####...#.#\n",
      ".##.#A...##.#.###....#.##.VJ###T###.##.D#.##.###..\n",
      "#i#.B.#..###.#....#L#..#..W.#.........5###.#..#..#\n",
      "##.##...#..p.###.k........##..u.D#.IX#...#.....###\n",
      "#..c###...#k#..#..#.#.VG#D....#.#.#W..........##..\n",
      "######i#c..##.G..##W####.###5.##.jJ###.....#...#.#\n",
      "#..#.#.#..#l.###...#..#.#.##..#.#..#J...#E###..#..\n",
      "..#####...E#.G#.t.#..#..#..##.#.###..###...#.....#\n",
      ".....#.#i.###....h###..#......#...#a.#..O#.##.#.#C\n",
      "..##.#K##t.L##.#....m..#W#.###.0.#j.#.#..####.2#..\n",
      "..##.....#.####.1.#...#.j#.0#..#.##gC..M###.2##.#.\n",
      "#.####..#K##.##.#.#..#3###.#.#....M#..##.##U.##g.#\n",
      "#.K##...##p#..##G#c#..##.##.#####.....q.##.#6.T.#.\n",
      "###..##...#.#..###1h..#####.##...#.M##C##.6f....##\n",
      "#.....##.###tj.#h..#.#...#....#.#..###..f##.....#.\n",
      "....##.#.###.#####..Y#h.#.#..#..#.#O###.###..6.C.#\n",
      "...#..#.###K.#..X.#.#t##....MfY##O#.#.Q##....##.#.\n",
      "###.#..##.#...p#..##..0..##.#.###.#.##..g##.###.##\n",
      "..#.##...#....n...#..#..##.###g##.#...#.#.###.#.##\n",
      ".##.a#.##....###..#.####.######.#....##wQq#H.2#..#\n",
      ".o.##.##.##....###.##.#.###.##.#.##.v#.##.H..7.2.#\n",
      "##....##N1..##.....#F.#####.q..#.Yw.##.#.##.H.##.#\n",
      ".#.n##d...#H##F.############..#....Y#...###e###.#.\n",
      "...#.##.#...##.##.#d#.##...#.#.#.#####.##....#..#.\n",
      "..y...#N..##.d#.Z##.##.9###..#..#.....##.....#..#.\n",
      ".N#.##.#T#n..####.##....#.#497##.....##..#.####...\n",
      ".y..#.o##..Z#####.#.#x##.#...#..##.T#.#..#.###...Q\n",
      ".###..#y..#X.##..#.##9####....#..#.#..#.7.#..Q##.#\n",
      "#.#.###.##..##.F.#....#..#.##.....#...e.##.#..####\n",
      "#n#...##..#..##.#F.Z.##.###....####.##.#...##.e.##\n",
      ".#..##..#...##.#..##.#9U.##.....###...w......#.#..\n",
      "o###..##y####.#..#..###.#...4#U#...#...#....#.#.##\n",
      "##x.#.#..#.#.#...X.#...####w#.4.....##...#..7..#..\n",
      "#.#.#..oZ...d.#..#...###.###.#..##x.....#.####.###\n",
      "#......#.....qU.#####.#.#.###.######.........#..##\n",
      "#........###.##.#..#......##.#...#.##.......###...\n",
      "...###...#..#.##...####.#.#....#.....##..##..#...#\n"
     ]
    },
    {
     "data": {
      "text/plain": [
       "1246"
      ]
     },
     "execution_count": 127,
     "metadata": {},
     "output_type": "execute_result"
    }
   ],
   "source": [
    "with open('input', 'r') as f:\n",
    "\tinput = f.read().strip()\n",
    "\n",
    "part2(input)"
   ]
  }
 ],
 "metadata": {
  "kernelspec": {
   "display_name": "Python 3",
   "language": "python",
   "name": "python3"
  },
  "language_info": {
   "codemirror_mode": {
    "name": "ipython",
    "version": 3
   },
   "file_extension": ".py",
   "mimetype": "text/x-python",
   "name": "python",
   "nbconvert_exporter": "python",
   "pygments_lexer": "ipython3",
   "version": "3.12.7"
  }
 },
 "nbformat": 4,
 "nbformat_minor": 2
}
