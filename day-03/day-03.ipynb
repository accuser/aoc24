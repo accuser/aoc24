{
 "cells": [
  {
   "cell_type": "code",
   "execution_count": null,
   "metadata": {},
   "outputs": [],
   "source": [
    "example = \"xmul(2,4)%&mul[3,7]!@^do_not_mul(5,5)+mul(32,64]then(mul(11,8)mul(8,5))\""
   ]
  },
  {
   "cell_type": "code",
   "execution_count": null,
   "metadata": {},
   "outputs": [],
   "source": [
    "import re\n",
    "\n",
    "\n",
    "def part1(input):\n",
    "    pattern = r'mul\\((\\d{1,3}),(\\d{1,3})\\)'\n",
    "\n",
    "    result = []\n",
    "\n",
    "    for line in input.splitlines():\n",
    "        result.append(sum([int(x) * int(y)\n",
    "                      for x, y in re.findall(pattern, line)]))\n",
    "\n",
    "    return sum(result)\n",
    "\n",
    "\n",
    "assert part1(example) == 161"
   ]
  },
  {
   "cell_type": "code",
   "execution_count": null,
   "metadata": {},
   "outputs": [],
   "source": [
    "with open('input', 'r') as f:\n",
    "    input = f.read().strip()\n",
    "\n",
    "part1(input)"
   ]
  },
  {
   "cell_type": "code",
   "execution_count": null,
   "metadata": {},
   "outputs": [],
   "source": [
    "def part2(input):\n",
    "    pattern = r'(?:mul\\((\\d{1,3}),(\\d{1,3})\\)|don\\'t\\(\\)|do\\(\\))'\n",
    "    enabled = True\n",
    "\n",
    "    result = []\n",
    "\n",
    "    for line in input.splitlines():\n",
    "        for match in re.finditer(pattern, line):\n",
    "            if match.group(0) == \"don't()\":\n",
    "                enabled = False\n",
    "            elif match.group(0) == \"do()\":\n",
    "                enabled = True\n",
    "            else:  # it's a mul instruction\n",
    "                if enabled:\n",
    "                    num1, num2 = map(int, match.groups())\n",
    "                    result.append(num1 * num2)\n",
    "\n",
    "    return sum(result)\n",
    "\n",
    "\n",
    "assert part2(\n",
    "    \"xmul(2,4)&mul[3,7]!^don't()_mul(5,5)+mul(32,64](mul(11,8)undo()?mul(8,5))\") == 48"
   ]
  },
  {
   "cell_type": "code",
   "execution_count": null,
   "metadata": {},
   "outputs": [],
   "source": [
    "part2(input)"
   ]
  }
 ],
 "metadata": {
  "kernelspec": {
   "display_name": "Python 3",
   "language": "python",
   "name": "python3"
  },
  "language_info": {
   "codemirror_mode": {
    "name": "ipython",
    "version": 3
   },
   "file_extension": ".py",
   "mimetype": "text/x-python",
   "name": "python",
   "nbconvert_exporter": "python",
   "pygments_lexer": "ipython3",
   "version": "3.12.7"
  }
 },
 "nbformat": 4,
 "nbformat_minor": 2
}
