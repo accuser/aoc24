{
 "cells": [
  {
   "cell_type": "code",
   "execution_count": null,
   "metadata": {},
   "outputs": [],
   "source": [
    "example = \"\"\"47|53\n",
    "97|13\n",
    "97|61\n",
    "97|47\n",
    "75|29\n",
    "61|13\n",
    "75|53\n",
    "29|13\n",
    "97|29\n",
    "53|29\n",
    "61|53\n",
    "97|53\n",
    "61|29\n",
    "47|13\n",
    "75|47\n",
    "97|75\n",
    "47|61\n",
    "75|61\n",
    "47|29\n",
    "75|13\n",
    "53|13\n",
    "\n",
    "75,47,61,53,29\n",
    "97,61,53,29,13\n",
    "75,29,13\n",
    "75,97,47,61,53\n",
    "61,13,29\n",
    "97,13,75,29,47\"\"\""
   ]
  },
  {
   "cell_type": "code",
   "execution_count": null,
   "metadata": {},
   "outputs": [],
   "source": [
    "def parse(input: str):\n",
    "    (a, _, b) = input.partition('\\n\\n')\n",
    "    return set(a.splitlines()), list(b.splitlines())"
   ]
  },
  {
   "cell_type": "code",
   "execution_count": null,
   "metadata": {},
   "outputs": [],
   "source": [
    "def correct_order(pages: list[str], rules: set[str]) -> bool:\n",
    "    for i, page in enumerate(pages):\n",
    "        for j in range(i + 1, len(pages)):\n",
    "            if f\"{page}|{pages[j]}\" not in rules:\n",
    "                return False\n",
    "\n",
    "    return True\n",
    "\n",
    "\n",
    "def part1(input: str) -> int:\n",
    "    rules, updates = parse(input)\n",
    "\n",
    "    result = 0\n",
    "\n",
    "    for update in updates:\n",
    "        pages = update.split(',')\n",
    "\n",
    "        if correct_order(pages, rules):\n",
    "            result += int(pages[len(pages) // 2])\n",
    "\n",
    "    return result\n",
    "\n",
    "assert part1(example) == 143"
   ]
  },
  {
   "cell_type": "code",
   "execution_count": null,
   "metadata": {},
   "outputs": [],
   "source": [
    "with open('input', 'r') as f:\n",
    "\tinput = f.read().strip()\n",
    "\n",
    "part1(input)"
   ]
  },
  {
   "cell_type": "code",
   "execution_count": null,
   "metadata": {},
   "outputs": [],
   "source": [
    "from functools import cmp_to_key\n",
    "\n",
    "def part2(input: str) -> int:\n",
    "    rules, updates = parse(input)\n",
    "\n",
    "    result = 0\n",
    "\n",
    "    for update in updates:\n",
    "        pages = list(update.split(','))\n",
    "\n",
    "        if not correct_order(pages, rules):\n",
    "            def compare_pages(a: str, b: str) -> int:\n",
    "                return 1 if f\"{a}|{b}\" in rules else -1\n",
    "\n",
    "            pages.sort(key=cmp_to_key(compare_pages))\n",
    "            result += int(pages[len(pages) // 2])\n",
    "\n",
    "    return result\n",
    "\n",
    "assert part2(example) == 123"
   ]
  },
  {
   "cell_type": "code",
   "execution_count": null,
   "metadata": {},
   "outputs": [],
   "source": [
    "part2(input)"
   ]
  }
 ],
 "metadata": {
  "kernelspec": {
   "display_name": "Python 3",
   "language": "python",
   "name": "python3"
  },
  "language_info": {
   "codemirror_mode": {
    "name": "ipython",
    "version": 3
   },
   "file_extension": ".py",
   "mimetype": "text/x-python",
   "name": "python",
   "nbconvert_exporter": "python",
   "pygments_lexer": "ipython3",
   "version": "3.12.7"
  }
 },
 "nbformat": 4,
 "nbformat_minor": 2
}
