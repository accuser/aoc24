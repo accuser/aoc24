{
 "cells": [
  {
   "cell_type": "code",
   "execution_count": null,
   "metadata": {},
   "outputs": [],
   "source": [
    "example = \"\"\"7 6 4 2 1\n",
    "1 2 7 8 9\n",
    "9 7 6 2 1\n",
    "1 3 2 4 5\n",
    "8 6 4 4 1\n",
    "1 3 6 7 9\"\"\""
   ]
  },
  {
   "cell_type": "code",
   "execution_count": null,
   "metadata": {},
   "outputs": [],
   "source": [
    "def parse(input):\n",
    "    reports = []\n",
    "\n",
    "    for line in input.splitlines():\n",
    "        reports.append([int(level) for level in line.split()])\n",
    "\n",
    "    return reports"
   ]
  },
  {
   "cell_type": "code",
   "execution_count": null,
   "metadata": {},
   "outputs": [],
   "source": [
    "def is_valid(report):\n",
    "    checks = []\n",
    "\n",
    "    for i in range(len(report) - 1):\n",
    "        checks.append(report[i] - report[i + 1])\n",
    "\n",
    "    return all(check > 0 and check <= 3 for check in checks) or all(check < 0 and check >= -3 for check in checks)\n",
    "\n",
    "\n",
    "def part1(input):\n",
    "    reports = parse(input)\n",
    "\n",
    "    # count the number of reports that are valid\n",
    "    valid = 0\n",
    "\n",
    "    for report in reports:\n",
    "        if is_valid(report):\n",
    "            valid += 1\n",
    "\n",
    "    return valid\n",
    "\n",
    "\n",
    "assert part1(example) == 2"
   ]
  },
  {
   "cell_type": "code",
   "execution_count": null,
   "metadata": {},
   "outputs": [],
   "source": [
    "with open('input', 'r') as f:\n",
    "\tinput = f.read().strip()\n",
    "\n",
    "part1(input)"
   ]
  },
  {
   "cell_type": "code",
   "execution_count": null,
   "metadata": {},
   "outputs": [],
   "source": [
    "\n",
    "def part2(input):\n",
    "    reports = parse(input)\n",
    "\n",
    "    # count the number of reports that are valid\n",
    "    valid = 0\n",
    "\n",
    "    for report in reports:\n",
    "        if is_valid(report):\n",
    "            valid += 1\n",
    "        else:\n",
    "            for i in range(len(report)):\n",
    "                test_levels = report[:i] + report[i+1:]\n",
    "                if is_valid(test_levels):\n",
    "                    valid += 1\n",
    "                    break\n",
    "\n",
    "    return valid\n",
    "\n",
    "\n",
    "assert part2(example) == 4"
   ]
  },
  {
   "cell_type": "code",
   "execution_count": null,
   "metadata": {},
   "outputs": [],
   "source": [
    "part2(input)"
   ]
  }
 ],
 "metadata": {
  "kernelspec": {
   "display_name": "Python 3",
   "language": "python",
   "name": "python3"
  },
  "language_info": {
   "codemirror_mode": {
    "name": "ipython",
    "version": 3
   },
   "file_extension": ".py",
   "mimetype": "text/x-python",
   "name": "python",
   "nbconvert_exporter": "python",
   "pygments_lexer": "ipython3",
   "version": "3.12.7"
  }
 },
 "nbformat": 4,
 "nbformat_minor": 2
}
