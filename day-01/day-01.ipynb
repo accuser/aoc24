{
 "cells": [
  {
   "cell_type": "code",
   "execution_count": null,
   "metadata": {},
   "outputs": [],
   "source": [
    "example = \"\"\"3   4\n",
    "4   3\n",
    "2   5\n",
    "1   3\n",
    "3   9\n",
    "3   3\"\"\""
   ]
  },
  {
   "cell_type": "code",
   "execution_count": null,
   "metadata": {},
   "outputs": [],
   "source": [
    "def parse(input: str) -> tuple[list, list]:\n",
    "    left = []\n",
    "    right = []\n",
    "\n",
    "    lines = input.splitlines()\n",
    "\n",
    "    for line in lines:\n",
    "        left.append(int(line.split()[0]))\n",
    "        right.append(int(line.split()[1]))\n",
    "\n",
    "    return left, right"
   ]
  },
  {
   "cell_type": "code",
   "execution_count": null,
   "metadata": {},
   "outputs": [],
   "source": [
    "def part1(input):\n",
    "\tleft, right = parse(input)\n",
    "\n",
    "\tleft = sorted(left)\n",
    "\tright = sorted(right)\n",
    "\n",
    "\treturn sum([abs(left[i] - right[i]) for i in range(len(left))])\n",
    "\n",
    "\n",
    "assert part1(example) == 11"
   ]
  },
  {
   "cell_type": "code",
   "execution_count": null,
   "metadata": {},
   "outputs": [],
   "source": [
    "with open('input', 'r') as f:\n",
    "\tinput = f.read().strip()\n",
    "\n",
    "part1(input)"
   ]
  },
  {
   "cell_type": "code",
   "execution_count": null,
   "metadata": {},
   "outputs": [],
   "source": [
    "def part2(input):\n",
    "    left = []\n",
    "    right = []\n",
    "\n",
    "    for line in input.split('\\n'):\n",
    "        left.append(int(line.split()[0]))\n",
    "        right.append(int(line.split()[1]))\n",
    "\n",
    "    return sum(i * right.count(i) for i in left)\n",
    "\n",
    "\n",
    "assert part2(example) == 31"
   ]
  },
  {
   "cell_type": "code",
   "execution_count": null,
   "metadata": {},
   "outputs": [],
   "source": [
    "part2(input)"
   ]
  }
 ],
 "metadata": {
  "kernelspec": {
   "display_name": "Python 3",
   "language": "python",
   "name": "python3"
  },
  "language_info": {
   "codemirror_mode": {
    "name": "ipython",
    "version": 3
   },
   "file_extension": ".py",
   "mimetype": "text/x-python",
   "name": "python",
   "nbconvert_exporter": "python",
   "pygments_lexer": "ipython3",
   "version": "3.12.7"
  }
 },
 "nbformat": 4,
 "nbformat_minor": 2
}
