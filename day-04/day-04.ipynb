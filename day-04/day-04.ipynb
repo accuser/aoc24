{
 "cells": [
  {
   "cell_type": "markdown",
   "metadata": {},
   "source": [
    "--- Day 4: Ceres Search ---\n",
    "\n",
    "\"Looks like the Chief's not here. Next!\" One of The Historians pulls out a device and pushes the only button on it. After a brief flash, you recognize the interior of the Ceres monitoring station!\n",
    "\n",
    "As the search for the Chief continues, a small Elf who lives on the station tugs on your shirt; she'd like to know if you could help her with her word search (your puzzle input). She only has to find one word: XMAS.\n",
    "\n",
    "This word search allows words to be horizontal, vertical, diagonal, written backwards, or even overlapping other words. It's a little unusual, though, as you don't merely need to find one instance of XMAS - you need to find all of them. Here are a few ways XMAS might appear, where irrelevant characters have been replaced with .:\n",
    "\n",
    "..X...\n",
    ".SAMX.\n",
    ".A..A.\n",
    "XMAS.S\n",
    ".X....\n",
    "\n",
    "The actual word search will be full of letters instead. For example:"
   ]
  },
  {
   "cell_type": "raw",
   "metadata": {},
   "source": [
    "MMMSXXMASM\n",
    "MSAMXMSMSA\n",
    "AMXSXMAAMM\n",
    "MSAMASMSMX\n",
    "XMASAMXAMM\n",
    "XXAMMXXAMA\n",
    "SMSMSASXSS\n",
    "SAXAMASAAA\n",
    "MAMMMXMMMM\n",
    "MXMXAXMASX"
   ]
  },
  {
   "cell_type": "code",
   "execution_count": null,
   "metadata": {},
   "outputs": [],
   "source": [
    "def parse(input):\n",
    "    return [list(line) for line in input.splitlines()]"
   ]
  },
  {
   "cell_type": "markdown",
   "metadata": {},
   "source": [
    "\n",
    "In this word search, XMAS occurs a total of 18 times; here's the same word search again, but where letters not involved in any XMAS have been replaced with .:"
   ]
  },
  {
   "cell_type": "raw",
   "metadata": {},
   "source": [
    "....XXMAS.\n",
    ".SAMXMS...\n",
    "...S..A...\n",
    "..A.A.MS.X\n",
    "XMASAMX.MM\n",
    "X.....XA.A\n",
    "S.S.S.S.SS\n",
    ".A.A.A.A.A\n",
    "..M.M.M.MM\n",
    ".X.X.XMASX"
   ]
  },
  {
   "cell_type": "code",
   "execution_count": null,
   "metadata": {},
   "outputs": [],
   "source": [
    "def part1(input):\n",
    "    grid = parse(input)\n",
    "\n",
    "    h = len(grid)\n",
    "    w = len(grid[0])\n",
    "\n",
    "    word = 'XMAS'\n",
    "\n",
    "    dir = [\n",
    "        (0, 1),\n",
    "        (0, -1),\n",
    "        (1, 0),\n",
    "        (-1, 0),\n",
    "        (1, 1),\n",
    "        (1, -1),\n",
    "        (-1, 1),\n",
    "        (-1, -1)\n",
    "    ]\n",
    "\n",
    "    count = 0\n",
    "\n",
    "    def find(r, c, dr, dc):\n",
    "        if not (0 <= r + dr * (len(word) - 1) < h and 0 <= c + dc * (len(word) - 1) < w):\n",
    "            return False\n",
    "\n",
    "        return all(grid[r + dr * i][c + dc * i] == word[i] for i in range(len(word)))\n",
    "\n",
    "    for r in range(h):\n",
    "        for c in range(w):\n",
    "            if grid[r][c] == word[0]:\n",
    "                count += sum(1 for dr, dc in dir if find(r, c, dr, dc))\n",
    "\n",
    "    return count\n"
   ]
  },
  {
   "cell_type": "code",
   "execution_count": null,
   "metadata": {},
   "outputs": [],
   "source": [
    "example = \"\"\"MMMSXXMASM\n",
    "MSAMXMSMSA\n",
    "AMXSXMAAMM\n",
    "MSAMASMSMX\n",
    "XMASAMXAMM\n",
    "XXAMMXXAMA\n",
    "SMSMSASXSS\n",
    "SAXAMASAAA\n",
    "MAMMMXMMMM\n",
    "MXMXAXMASX\"\"\"\n",
    "\n",
    "assert part1(example) == 18"
   ]
  },
  {
   "cell_type": "markdown",
   "metadata": {},
   "source": [
    "Take a look at the little Elf's word search. How many times does XMAS appear?"
   ]
  },
  {
   "cell_type": "code",
   "execution_count": null,
   "metadata": {},
   "outputs": [],
   "source": [
    "# read input\n",
    "with open('input', 'r') as f:\n",
    "\tinput = f.read().strip()\n",
    "\n",
    "part1(input)"
   ]
  },
  {
   "cell_type": "markdown",
   "metadata": {},
   "source": [
    "--- Part Two ---\n",
    "\n",
    "The Elf looks quizzically at you. Did you misunderstand the assignment?\n",
    "\n",
    "Looking for the instructions, you flip over the word search to find that this isn't actually an XMAS puzzle; it's an X-MAS puzzle in which you're supposed to find two MAS in the shape of an X. One way to achieve that is like this:\n",
    "\n",
    "M.S\n",
    ".A.\n",
    "M.S\n",
    "Irrelevant characters have again been replaced with . in the above diagram. Within the X, each MAS can be written forwards or backwards.\n",
    "\n",
    "Here's the same example from before, but this time all of the X-MASes have been kept instead:\n",
    "\n",
    ".M.S......\n",
    "..A..MSMS.\n",
    ".M.S.MAA..\n",
    "..A.ASMSM.\n",
    ".M.S.M....\n",
    "..........\n",
    "S.S.S.S.S.\n",
    ".A.A.A.A..\n",
    "M.M.M.M.M.\n",
    "..........\n",
    "In this example, an X-MAS appears 9 times.\n",
    "\n",
    "Flip the word search from the instructions back over to the word search side and try again. How many times does an X-MAS appear?\n",
    "\n"
   ]
  },
  {
   "cell_type": "code",
   "execution_count": null,
   "metadata": {},
   "outputs": [],
   "source": [
    "def part2(input):\n",
    "    grid = parse(input)\n",
    "\n",
    "    h = len(grid)\n",
    "    w = len(grid[0])\n",
    "\n",
    "    count = 0\n",
    "\n",
    "    for r in range(1, h - 1):\n",
    "        for c in range(1, w - 1):\n",
    "            if grid[r][c] != 'A':\n",
    "                continue\n",
    "\n",
    "            if ((grid[r - 1][c - 1] == 'M' and grid[r + 1][c + 1] == 'S') or (grid[r - 1][c - 1] == 'S' and grid[r + 1][c + 1] == 'M')) and ((grid[r + 1][c - 1] == 'M' and grid[r - 1][c + 1] == 'S') or (grid[r + 1][c - 1] == 'S' and grid[r - 1][c + 1] == 'M')):\n",
    "                count += 1\n",
    "\n",
    "    return count\n",
    "\n",
    "\n",
    "assert part2(example) == 9"
   ]
  },
  {
   "cell_type": "code",
   "execution_count": null,
   "metadata": {},
   "outputs": [],
   "source": [
    "part2(input)"
   ]
  }
 ],
 "metadata": {
  "kernelspec": {
   "display_name": "Python 3",
   "language": "python",
   "name": "python3"
  },
  "language_info": {
   "codemirror_mode": {
    "name": "ipython",
    "version": 3
   },
   "file_extension": ".py",
   "mimetype": "text/x-python",
   "name": "python",
   "nbconvert_exporter": "python",
   "pygments_lexer": "ipython3",
   "version": "3.12.7"
  }
 },
 "nbformat": 4,
 "nbformat_minor": 2
}
