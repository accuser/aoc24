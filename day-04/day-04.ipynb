{
 "cells": [
  {
   "cell_type": "code",
   "execution_count": null,
   "metadata": {},
   "outputs": [],
   "source": [
    "example = \"\"\"MMMSXXMASM\n",
    "MSAMXMSMSA\n",
    "AMXSXMAAMM\n",
    "MSAMASMSMX\n",
    "XMASAMXAMM\n",
    "XXAMMXXAMA\n",
    "SMSMSASXSS\n",
    "SAXAMASAAA\n",
    "MAMMMXMMMM\n",
    "MXMXAXMASX\"\"\""
   ]
  },
  {
   "cell_type": "code",
   "execution_count": null,
   "metadata": {},
   "outputs": [],
   "source": [
    "def parse(input):\n",
    "    return [list(line) for line in input.splitlines()]"
   ]
  },
  {
   "cell_type": "code",
   "execution_count": null,
   "metadata": {},
   "outputs": [],
   "source": [
    "def part1(input):\n",
    "    grid = parse(input)\n",
    "\n",
    "    h = len(grid)\n",
    "    w = len(grid[0])\n",
    "\n",
    "    word = 'XMAS'\n",
    "\n",
    "    dir = [\n",
    "        (0, 1),\n",
    "        (0, -1),\n",
    "        (1, 0),\n",
    "        (-1, 0),\n",
    "        (1, 1),\n",
    "        (1, -1),\n",
    "        (-1, 1),\n",
    "        (-1, -1)\n",
    "    ]\n",
    "\n",
    "    count = 0\n",
    "\n",
    "    def find(r, c, dr, dc):\n",
    "        if not (0 <= r + dr * (len(word) - 1) < h and 0 <= c + dc * (len(word) - 1) < w):\n",
    "            return False\n",
    "\n",
    "        return all(grid[r + dr * i][c + dc * i] == word[i] for i in range(len(word)))\n",
    "\n",
    "    for r in range(h):\n",
    "        for c in range(w):\n",
    "            if grid[r][c] == word[0]:\n",
    "                count += sum(1 for dr, dc in dir if find(r, c, dr, dc))\n",
    "\n",
    "    return count\n",
    "\n",
    "\n",
    "assert part1(example) == 18"
   ]
  },
  {
   "cell_type": "code",
   "execution_count": null,
   "metadata": {},
   "outputs": [],
   "source": [
    "with open('input', 'r') as f:\n",
    "    input = f.read().strip()\n",
    "\n",
    "part1(input)"
   ]
  },
  {
   "cell_type": "code",
   "execution_count": null,
   "metadata": {},
   "outputs": [],
   "source": [
    "def part2(input):\n",
    "    grid = parse(input)\n",
    "\n",
    "    h = len(grid)\n",
    "    w = len(grid[0])\n",
    "\n",
    "    count = 0\n",
    "\n",
    "    for r in range(1, h - 1):\n",
    "        for c in range(1, w - 1):\n",
    "            if grid[r][c] != 'A':\n",
    "                continue\n",
    "\n",
    "            if ((grid[r - 1][c - 1] == 'M' and grid[r + 1][c + 1] == 'S') or (grid[r - 1][c - 1] == 'S' and grid[r + 1][c + 1] == 'M')) and ((grid[r + 1][c - 1] == 'M' and grid[r - 1][c + 1] == 'S') or (grid[r + 1][c - 1] == 'S' and grid[r - 1][c + 1] == 'M')):\n",
    "                count += 1\n",
    "\n",
    "    return count\n",
    "\n",
    "\n",
    "assert part2(example) == 9"
   ]
  },
  {
   "cell_type": "code",
   "execution_count": null,
   "metadata": {},
   "outputs": [],
   "source": [
    "part2(input)"
   ]
  }
 ],
 "metadata": {
  "kernelspec": {
   "display_name": "Python 3",
   "language": "python",
   "name": "python3"
  },
  "language_info": {
   "codemirror_mode": {
    "name": "ipython",
    "version": 3
   },
   "file_extension": ".py",
   "mimetype": "text/x-python",
   "name": "python",
   "nbconvert_exporter": "python",
   "pygments_lexer": "ipython3",
   "version": "3.12.7"
  }
 },
 "nbformat": 4,
 "nbformat_minor": 2
}
