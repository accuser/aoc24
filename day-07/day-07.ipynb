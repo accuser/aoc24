{
 "cells": [
  {
   "cell_type": "code",
   "execution_count": null,
   "metadata": {},
   "outputs": [],
   "source": [
    "example = \"\"\"190: 10 19\n",
    "3267: 81 40 27\n",
    "83: 17 5\n",
    "156: 15 6\n",
    "7290: 6 8 6 15\n",
    "161011: 16 10 13\n",
    "192: 17 8 14\n",
    "21037: 9 7 18 13\n",
    "292: 11 6 16 20\"\"\""
   ]
  },
  {
   "cell_type": "code",
   "execution_count": null,
   "metadata": {},
   "outputs": [],
   "source": [
    "def parse(input: str):\n",
    "    return [(int(test), list(map(int, numbers.split()))) for test, numbers in (line.split(': ') for line in input.splitlines())]"
   ]
  },
  {
   "cell_type": "code",
   "execution_count": null,
   "metadata": {},
   "outputs": [],
   "source": [
    "def insert_operators(nums, operators=['+', '*']):\n",
    "    if len(nums) <= 1:\n",
    "        return [nums]\n",
    "\n",
    "    results = []\n",
    "\n",
    "    rest = insert_operators(nums[1:], operators)\n",
    "\n",
    "    for op in operators:\n",
    "        for sequence in rest:\n",
    "            results.append([nums[0], op] + sequence)\n",
    "\n",
    "    return results\n",
    "\n",
    "\n",
    "def evaluate(sequence):\n",
    "    result = sequence[0]\n",
    "\n",
    "    for i in range(1, len(sequence), 2):\n",
    "        op = sequence[i]\n",
    "        num = sequence[i+1]\n",
    "\n",
    "        if op == '+':\n",
    "            result += num\n",
    "        elif op == '*':\n",
    "            result *= num\n",
    "        elif op == '||':\n",
    "            result = int(str(result) + str(num))\n",
    "\n",
    "    return result\n",
    "\n",
    "\n",
    "def part1(input: str) -> int:\n",
    "    result = 0\n",
    "\n",
    "    for equation in parse(input):\n",
    "        test, numbers = equation\n",
    "\n",
    "        for sequence in insert_operators(numbers):\n",
    "            if evaluate(sequence) == test:\n",
    "                result += test\n",
    "                break\n",
    "\n",
    "    return result\n",
    "\n",
    "\n",
    "assert part1(example) == 3749"
   ]
  },
  {
   "cell_type": "code",
   "execution_count": null,
   "metadata": {},
   "outputs": [],
   "source": [
    "with open('input', 'r') as f:\n",
    "\tinput = f.read().strip()\n",
    "\n",
    "print(part1(input))"
   ]
  },
  {
   "cell_type": "code",
   "execution_count": null,
   "metadata": {},
   "outputs": [],
   "source": [
    "def part2(input: str) -> int:\n",
    "    result = 0\n",
    "\n",
    "    for equation in parse(input):\n",
    "        test, numbers = equation\n",
    "\n",
    "        for sequence in insert_operators(numbers, ['+', '*', '||']):\n",
    "            if evaluate(sequence) == test:\n",
    "                result += test\n",
    "                break\n",
    "\n",
    "    return result\n",
    "\n",
    "\n",
    "assert part2(example) == 11387"
   ]
  },
  {
   "cell_type": "code",
   "execution_count": null,
   "metadata": {},
   "outputs": [],
   "source": [
    "print(part2(input))"
   ]
  }
 ],
 "metadata": {
  "kernelspec": {
   "display_name": "Python 3",
   "language": "python",
   "name": "python3"
  },
  "language_info": {
   "codemirror_mode": {
    "name": "ipython",
    "version": 3
   },
   "file_extension": ".py",
   "mimetype": "text/x-python",
   "name": "python",
   "nbconvert_exporter": "python",
   "pygments_lexer": "ipython3",
   "version": "3.12.7"
  }
 },
 "nbformat": 4,
 "nbformat_minor": 2
}
