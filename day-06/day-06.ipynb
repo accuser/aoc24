{
 "cells": [
  {
   "cell_type": "code",
   "execution_count": null,
   "metadata": {},
   "outputs": [],
   "source": [
    "example = \"\"\"....#.....\n",
    ".........#\n",
    "..........\n",
    "..#.......\n",
    ".......#..\n",
    "..........\n",
    ".#..^.....\n",
    "........#.\n",
    "#.........\n",
    "......#...\"\"\""
   ]
  },
  {
   "cell_type": "code",
   "execution_count": null,
   "metadata": {},
   "outputs": [],
   "source": [
    "def parse(input: str) -> list[list[str]]:\n",
    "    return [list(line) for line in input.splitlines()]"
   ]
  },
  {
   "cell_type": "code",
   "execution_count": null,
   "metadata": {},
   "outputs": [],
   "source": [
    "def part1(input: str) -> int:\n",
    "    grid = parse(input)\n",
    "\n",
    "    def find_start(grid: list[list[str]]) -> tuple[int, int]:\n",
    "        for line in grid:\n",
    "            if '^' in line:\n",
    "                x = line.index('^')\n",
    "                y = grid.index(line)\n",
    "                return x, y\n",
    "\n",
    "    x, y = find_start(grid)\n",
    "\n",
    "    d = (0, -1)\n",
    "\n",
    "    while True:\n",
    "\n",
    "        grid[y][x] = 'X'\n",
    "\n",
    "        (dx, dy) = d\n",
    "\n",
    "        if x + dx < 0 or x + dx >= len(grid[0]) or y + dy < 0 or y + dy >= len(grid):\n",
    "            return sum(line.count('X') for line in grid)\n",
    "        elif grid[y + dy][x + dx] == '#':\n",
    "            d = (-dy, dx)\n",
    "        else:\n",
    "            x += dx\n",
    "            y += dy\n",
    "\n",
    "\n",
    "assert part1(example) == 41"
   ]
  },
  {
   "cell_type": "code",
   "execution_count": null,
   "metadata": {},
   "outputs": [],
   "source": [
    "with open('input', 'r') as f:\n",
    "\tinput = f.read().strip()\n",
    "\n",
    "part1(input)"
   ]
  },
  {
   "cell_type": "code",
   "execution_count": null,
   "metadata": {},
   "outputs": [],
   "source": [
    "def part2(input: str) -> int:\n",
    "    grid = parse(input)\n",
    "\n",
    "    def find_start(grid: list[list[str]]) -> tuple[int, int]:\n",
    "        for line in grid:\n",
    "            if '^' in line:\n",
    "                return line.index('^'), grid.index(line)\n",
    "\n",
    "    def is_loop(grid: list[list[str]]) -> bool:\n",
    "        x, y = find_start(grid)\n",
    "\n",
    "        d = (0, -1)\n",
    "\n",
    "        while True:\n",
    "            (dx, dy) = d\n",
    "\n",
    "            dir = '>' if dx == 1 else '<' if dx == -1 else '^' if dy == -1 else 'v'\n",
    "\n",
    "            if x + dx < 0 or x + dx >= len(grid[0]) or y + dy < 0 or y + dy >= len(grid):\n",
    "                return False\n",
    "            if grid[y + dy][x + dx] == dir:\n",
    "                return True\n",
    "            elif grid[y + dy][x + dx] in ['O','#']:\n",
    "                d = (-dy, dx)\n",
    "            else:\n",
    "                x += dx\n",
    "                y += dy\n",
    "                grid[y][x] = dir\n",
    "\n",
    "    count = 0\n",
    "\n",
    "    for i in range(len(grid)):\n",
    "        for j in range(len(grid[0])):\n",
    "            if grid[i][j] in ['^', '#']:\n",
    "                continue\n",
    "            test = [row[:] for row in grid]\n",
    "            test[i][j] = 'O'\n",
    "            if is_loop(test):\n",
    "                count += 1\n",
    "\n",
    "    return count\n",
    "\n",
    "\n",
    "assert(part2(example)) == 6"
   ]
  },
  {
   "cell_type": "code",
   "execution_count": null,
   "metadata": {},
   "outputs": [],
   "source": [
    "part2(input)"
   ]
  }
 ],
 "metadata": {
  "kernelspec": {
   "display_name": "Python 3",
   "language": "python",
   "name": "python3"
  },
  "language_info": {
   "codemirror_mode": {
    "name": "ipython",
    "version": 3
   },
   "file_extension": ".py",
   "mimetype": "text/x-python",
   "name": "python",
   "nbconvert_exporter": "python",
   "pygments_lexer": "ipython3",
   "version": "3.12.7"
  }
 },
 "nbformat": 4,
 "nbformat_minor": 2
}
