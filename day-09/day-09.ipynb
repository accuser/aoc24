{
 "cells": [
  {
   "cell_type": "code",
   "execution_count": null,
   "metadata": {},
   "outputs": [],
   "source": [
    "example = \"2333133121414131402\""
   ]
  },
  {
   "cell_type": "code",
   "execution_count": null,
   "metadata": {},
   "outputs": [],
   "source": [
    "def parse(input: str) -> list:\n",
    "    return [int(index / 2) if index % 2 == 0 else None for index, count in enumerate(list(input)) for _ in range(int(count))]\n",
    "\n",
    "def part1(input: str) -> int:\n",
    "    blocks = parse(input)\n",
    "\n",
    "    i = 0\n",
    "    j = len(blocks) - 1\n",
    "\n",
    "    while i <= j:\n",
    "        if (blocks[j] == None):\n",
    "            j -= 1\n",
    "            continue\n",
    "        elif (blocks[i] == None):\n",
    "            blocks[i] = blocks[j]\n",
    "            blocks[j] = None\n",
    "            j -= 1\n",
    "\n",
    "        i += 1\n",
    "\n",
    "    return sum(index * value for index, value in enumerate(blocks) if value is not None)\n",
    "\n",
    "assert part1(example) == 1928"
   ]
  },
  {
   "cell_type": "code",
   "execution_count": null,
   "metadata": {},
   "outputs": [],
   "source": [
    "with open('input', 'r') as f:\n",
    "\tinput = f.read().strip()\n",
    "\n",
    "part1(input)"
   ]
  },
  {
   "cell_type": "code",
   "execution_count": null,
   "metadata": {},
   "outputs": [],
   "source": [
    "def part2(input: str) -> int:\n",
    "    blocks = parse(input)\n",
    "\n",
    "    k = len(blocks) - 1\n",
    "\n",
    "    while k > 0:\n",
    "        while k > 0:\n",
    "            if blocks[k] == None:\n",
    "                k -= 1\n",
    "            else:\n",
    "                break\n",
    "\n",
    "        if k == 0:\n",
    "            break\n",
    "\n",
    "        j = k\n",
    "\n",
    "        while j > 0:\n",
    "            if blocks[j - 1] == blocks[k]:\n",
    "                j -= 1\n",
    "            else:\n",
    "                break\n",
    "\n",
    "        if j == 0:\n",
    "            break\n",
    "\n",
    "        i = 0\n",
    "\n",
    "        while i < j:\n",
    "            if all(block is None for block in blocks[i:i + k - j + 1]):\n",
    "                break\n",
    "            else:\n",
    "                i += 1\n",
    "\n",
    "        if (i < j):\n",
    "            while j <= k:\n",
    "                blocks[i] = blocks[j]\n",
    "                blocks[j] = None\n",
    "                i += 1\n",
    "                j += 1\n",
    "        else:\n",
    "            k = j - 1\n",
    "\n",
    "    return sum(index * value for index, value in enumerate(blocks) if value is not None)\n",
    "\n",
    "\n",
    "assert part2(example) == 2858"
   ]
  },
  {
   "cell_type": "code",
   "execution_count": null,
   "metadata": {},
   "outputs": [],
   "source": [
    "part2(input)"
   ]
  }
 ],
 "metadata": {
  "kernelspec": {
   "display_name": "Python 3",
   "language": "python",
   "name": "python3"
  },
  "language_info": {
   "codemirror_mode": {
    "name": "ipython",
    "version": 3
   },
   "file_extension": ".py",
   "mimetype": "text/x-python",
   "name": "python",
   "nbconvert_exporter": "python",
   "pygments_lexer": "ipython3",
   "version": "3.9.6"
  }
 },
 "nbformat": 4,
 "nbformat_minor": 2
}
